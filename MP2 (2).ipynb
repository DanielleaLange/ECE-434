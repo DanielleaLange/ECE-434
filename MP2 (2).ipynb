{
 "cells": [
  {
   "cell_type": "markdown",
   "metadata": {},
   "source": [
    "# ECE/CS 434 | MP2: Wi-Fi Fingerprints\n",
    "<br />\n",
    "<nav>\n",
    "    <span class=\"alert alert-block alert-warning\">Due March 14th 11:59PM 2021 on Gradescope</span> |\n",
    "    <a href=\"https://www.gradescope.com/courses/223105\">Gradescope</a> | \n",
    "    <a href=\"https://courses.grainger.illinois.edu/cs434/sp2021/\">Course Website</a> | \n",
    "    <a href=\"http://piazza.com/illinois/spring2021/csece434\">Piazza</a>\n",
    "</nav><br> \n",
    "\n",
    "**Name(s):** _ , _<br>\n",
    "**NetID(s):** _ , _\n",
    "\n",
    "<hr />  "
   ]
  },
  {
   "cell_type": "markdown",
   "metadata": {},
   "source": [
    "## Objective\n",
    "In this MP, you will:\n",
    "- Implement a localization algorithm based on Wi-Fi fingerprints.\n",
    "- Experiment with clustering algorithms such as KNN.\n",
    "- Apply appropriate optimizations to improve localization accuracy."
   ]
  },
  {
   "cell_type": "markdown",
   "metadata": {},
   "source": [
    "---\n",
    "## Imports & Setup\n",
    "The following `code` cell, when run, imports the libraries you **might** need for this MP. Feel free to delete or import other commonly used libraries. If Gradescope reports an error and you believe it is due to an unsupported import, check with the TA to see if it could be added. "
   ]
  },
  {
   "cell_type": "code",
   "execution_count": 1,
   "metadata": {},
   "outputs": [],
   "source": [
    "import numpy as np\n",
    "import pandas as pd\n",
    "from sklearn.neighbors import KDTree\n",
    "from statistics import mean \n",
    "import math"
   ]
  },
  {
   "cell_type": "markdown",
   "metadata": {},
   "source": [
    "---\n",
    "## Problem Description\n",
    "There is a room with 3 Wi-Fi access points (their locations are known). You are given the RSSI measurements from all 3 access points (APs) at $N$ unique locations in the room, as well as the phone’s orientation when the measurement was taken. Let’s call this the **“offline phase”**, and call the collected data **\"fingerprints\"**. In the **“online phase”**, a user in the room walks along a **straight** line. Given the RSSI measurements collected by this user’s smartphone and the Wi-Fi fingerprints collected during the off-line phase, **your task is to find the beginning and end locations of this user’s walk**.\n",
    "\n",
    "`offline.csv` contains data for the off-line phase and has 5 columns: `(x, y, alpha, SSID, RSSI)`. \n",
    "\n",
    "`1-walk-*.csv` contain data collected during the on-line phase and has 3 columns: `(SSID, Time, RSSI)`\n",
    "\n",
    "`ap_locations_1.csv` contains the coordinates of each AP. This data is only needed if you want to implement optional optimizations. The reference implementation did not use this data.\n",
    "\n",
    "\n",
    "#### Notes\n",
    "\n",
    "* Refer to `groundtruth.png` for a visual of the setting.\n",
    "* `alpha` is provided in degrees.\n",
    "* `RSSI` is provided in decibels.\n",
    "* `SSID` provides the unique identifier for each AP."
   ]
  },
  {
   "cell_type": "markdown",
   "metadata": {},
   "source": [
    "## Your Implementation\n",
    "Implement your localization algorithm in the function `wifi_localization(online_file, offline_file, ap_locations)`. Do NOT change its function signature. You are, however, free to define and use helper functions."
   ]
  },
  {
   "cell_type": "code",
   "execution_count": null,
   "metadata": {},
   "outputs": [],
   "source": [
    "# This function takes three arguments: \n",
    "#    online_file  (string) - name of data file for online phase\n",
    "#    offline_file (string) - name of data file for offline phase\n",
    "#    ap_locations (string) - name of data file for access point locations (optional optimization, reference implementation did not use this)\n",
    "# It returns a list with two tuple values corresponding to the start and end coordinates of the walk\n",
    "\n",
    "def wifi_localization(online_file, offline_file, ap_locations):\n",
    "    # feel free to replace/modify the next two lines\n",
    "    fingerprints = pd.read_csv(online_file)\n",
    "    walk = pd.read_csv(offline_file)\n",
    "    \n",
    "    return [(0., 0.), (0., 0.)] # Your return value should be in this format: [(x_start, y_start), (x_end, y_end)]\n"
   ]
  },
  {
   "cell_type": "markdown",
   "metadata": {},
   "source": [
    "---\n",
    "## Running and Testing\n",
    "The code below runs and evaluates your localization algorithm on the two datasets provided. We will use this same function `estimate_grade(loc, gt)` to grade your MP on the two provided datasets **and on additional (hidden) datasets**. "
   ]
  },
  {
   "cell_type": "code",
   "execution_count": null,
   "metadata": {},
   "outputs": [],
   "source": [
    "if __name__ == '__main__':\n",
    "    def estimate_grade(calculated, expected):\n",
    "        X = 0\n",
    "        Y = 1\n",
    "        S = 0\n",
    "        E = 1\n",
    "        calculated = np.array(calculated)\n",
    "        expected = np.array(expected)\n",
    "\n",
    "        # 1. Calculate deviation of walking direction from ground truth\n",
    "        def get_deviation(calculated, expected):\n",
    "            calculated = np.array(calculated[E] - calculated[S])\n",
    "            expected = np.array(expected[E] - expected[S])\n",
    "            with np.errstate(divide='ignore', invalid='ignore'): \n",
    "                dot_prod = np.dot(calculated, expected) / np.linalg.norm(calculated) / np.linalg.norm(expected)\n",
    "                deviation = np.nan_to_num(np.degrees(np.arccos(dot_prod)), nan=90)\n",
    "                return deviation if deviation <= 90 else abs(deviation - 180)\n",
    "\n",
    "        delta_theta = get_deviation(calculated, expected)\n",
    "\n",
    "        # You will receive full points if deviation <= 30 degrees. \n",
    "        # You will receive 0 points if deviation >= 60 degrees.\n",
    "        # Points for deviation between 30 and 60 degrees will be scaled proportionally.\n",
    "        theta_score = 1 if(delta_theta <= 30) else max((1 - abs(delta_theta - 30)/30), 0)\n",
    "\n",
    "        # 2. Calculating absolute distance between calculated and expected S/E coordinates.\n",
    "        dist_errors = expected - calculated\n",
    "        s_dist = np.linalg.norm(dist_errors[S], ord=2)\n",
    "        e_dist = np.linalg.norm(dist_errors[E], ord=2)\n",
    "\n",
    "        # You will receive full points if error <= 0.5 units. \n",
    "        # You will receive 0 points if error >= 3 units.\n",
    "        # Points for error between 0.5 and 3 units will be scaled proportionally.\n",
    "        s_score = 1 if(abs(s_dist) <= 0.5) else max(1 - abs(s_dist - 0.5)/2.5, 0)\n",
    "        e_score = 1 if(abs(e_dist) <= 0.5) else max(1 - abs(e_dist - 0.5)/2.5, 0)\n",
    "        dist_score = (s_score + e_score) / 2\n",
    "\n",
    "        return theta_score * 0.8 + dist_score * 0.2\n",
    "\n",
    "    student_out_1 = wifi_localization(\"1-walk-1.csv\", \"offline.csv\", \"ap_locations_1.csv\")\n",
    "    expected_1 = [(0., 2.5),(3.5, 2.5)]\n",
    "    grade_1 = estimate_grade(student_out_1, expected_1)\n",
    "\n",
    "    student_out_2 = wifi_localization(\"1-walk-2.csv\", \"offline.csv\", \"ap_locations_1.csv\")\n",
    "    expected_2 = [(0., 0.),(3., 3.)]\n",
    "    grade_2 = estimate_grade(student_out_2, expected_2)\n",
    "\n",
    "    from IPython.display import display, Markdown\n",
    "    display(Markdown(\"\"\"\n",
    "|  Dataset  |  Expected Output |     Your Output |                  Grade |\n",
    "|:---------:|-----------------:|----------------:|-----------------------:|\n",
    "|     1     |     {expected_1} | {student_out_1} |        {grade_1:2.2f}% |\n",
    "|     2     |     {expected_2} | {student_out_2} |        {grade_2:2.2f}% |\n",
    "|   Hidden  |              ??? |             ??? | Graded upon Submission | \n",
    "|   Hidden  |              ??? |             ??? | Graded upon Submission | \n",
    "\"\"\".format(\n",
    "        expected_1=expected_1,\n",
    "        student_out_1=student_out_1,\n",
    "        grade_1=(grade_1 * 100),\n",
    "        expected_2=expected_2,\n",
    "        student_out_2=student_out_2,\n",
    "        grade_2=(grade_2 * 100),\n",
    "    )))"
   ]
  },
  {
   "cell_type": "markdown",
   "metadata": {},
   "source": [
    "---\n",
    "## Rubric\n",
    "You will be graded on the two walks provided to you (5 points each) and two additional walks under a different setting (15 points each). Make sure you are not over-fitting to the provided data. We will use the same code from the **Running and Testing** section above to grade all 4 traces of data. In plain English, you will be graded on two error metrics:\n",
    "- (80%) How much your walking direction deviates from ground truth. You will receive full points if deviation ≤ 30 degrees, and 0 points if deviation ≥ 60 degrees. Points for deviation between 30 and 60 degrees will be scaled proportionally.\n",
    "- (20%) How much your start and end coordinates deviate from ground truth. You will receive full points if error ≤ 0.5 units. You will receive 0 points if error ≥ 3. Points for error between 0.5 and 3 units will be scaled proportionally."
   ]
  },
  {
   "cell_type": "markdown",
   "metadata": {},
   "source": [
    "---\n",
    "## Submission Guidlines\n",
    "This Jupyter notebook is the only file you need to submit on Gradescope. If you are working in a pair, make sure your partner is correctly added on Gradescope and that both of your names are filled in at the top of this file.\n",
    "\n",
    "**Make sure any code you added to this notebook, except for import statements, is either in a function or guarded by `__main__`(which won't be run by the autograder). Gradescope will give you immediate feedback using the provided test cases. It is your responsibility to check the output before the deadline to ensure your submission runs with the autograder.**"
   ]
  },
  {
   "cell_type": "code",
   "execution_count": null,
   "metadata": {},
   "outputs": [],
   "source": []
  }
 ],
 "metadata": {
  "kernelspec": {
   "display_name": "Python 3",
   "language": "python",
   "name": "python3"
  },
  "language_info": {
   "codemirror_mode": {
    "name": "ipython",
    "version": 3
   },
   "file_extension": ".py",
   "mimetype": "text/x-python",
   "name": "python",
   "nbconvert_exporter": "python",
   "pygments_lexer": "ipython3",
   "version": "3.7.6"
  }
 },
 "nbformat": 4,
 "nbformat_minor": 4
}
