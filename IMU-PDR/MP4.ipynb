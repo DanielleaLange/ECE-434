{
 "cells": [
  {
   "cell_type": "markdown",
   "metadata": {},
   "source": [
    "# ECE/CS 434 | MP4: IMU PDR\n",
    "<br />\n",
    "<nav>\n",
    "    <span class=\"alert alert-block alert-warning\">Due at 11:59PM April 13th 2021 on Gradescope</span> |\n",
    "    <a href=\"https://www.gradescope.com/courses/223105\">Gradescope</a> | \n",
    "    <a href=\"https://courses.grainger.illinois.edu/cs434/sp2021/\">Course Website</a> | \n",
    "    <a href=\"http://piazza.com/illinois/spring2021/csece434\">Piazza</a>\n",
    "</nav><br> \n",
    "\n",
    "**Name(s):** _ , _<br>\n",
    "**NetID(s):** _ , _\n",
    "\n",
    "<hr />  "
   ]
  },
  {
   "cell_type": "markdown",
   "metadata": {},
   "source": [
    "## Objective\n",
    "In this MP, you will:\n",
    "- Implement a step counting algorithm using accelerometer data.\n",
    "- Apply signal processing and linear algebra functions such as low/high pass filtering, peak detection, fft, etc. to the step counting algorithm.\n",
    "- Calculate phone orientation using a single static accelerometer reading. \n",
    "- Track phone orientation through a sequence of gyroscope data by performing integration."
   ]
  },
  {
   "cell_type": "markdown",
   "metadata": {},
   "source": [
    "---\n",
    "## Problem Overview\n",
    "In pedestrian dead-reckoning applications, two pieces of information need to be tracked: how far a user walked, and the direction of the walk. In the first part of this MP, you will write a step counter using accelerometer data as input. In the second part, you will derive the initial orientation of the phone using a single accelerometer reading and calculate the final orientation using a sequence of gyroscope data."
   ]
  },
  {
   "cell_type": "markdown",
   "metadata": {},
   "source": [
    "---\n",
    "## Imports & Setup\n",
    "\n",
    "### Installing requirements correctly\n",
    "\n",
    "First. we will make sure that the correct versions of required modules are installed. This ensures that your local Python environment is consistent with the one running on the Gradescope autograder. Just convert the following cell to code and run:\n",
    "\n",
    "<div class=\"alert alert-block alert-info\"><b>Note:</b> It's preferred that your local environment matches the autograder to prevent possible inconsistencies. However, if you're running into annoying Python version issues but haven't had any issues getting consistent results on the autograder, there is no need to stress over it. Just skip for now and come back when you do encounter inconsistencies:) Ditto below.\n",
    "</div>\n",
    "\n",
    "<div class=\"alert alert-block alert-info\"><b>WARNING:</b> ENSURE THE FOLLOWING CELL IS MARKDOWN OR DELETED BEFORE SUBMITTING. THE AUTOGRADER WILL FAIL \n",
    "</div>"
   ]
  },
  {
   "cell_type": "markdown",
   "metadata": {},
   "source": [
    "if __name__ == '__main__':\n",
    "    import sys\n",
    "    !{sys.executable} -m pip install -r requirements.txt"
   ]
  },
  {
   "cell_type": "markdown",
   "metadata": {},
   "source": [
    "### Your imports\n",
    "Write your import statements below. If Gradescope reports an error and you believe it is due to an unsupported import, check with the TA to see if it could be added."
   ]
  },
  {
   "cell_type": "code",
   "execution_count": 1,
   "metadata": {},
   "outputs": [],
   "source": [
    "import numpy as np\n",
    "import pandas as pd\n",
    "import matplotlib.pyplot as plt\n",
    "from scipy import signal as signal\n",
    "from scipy.spatial.transform import Rotation\n",
    "\n",
    "# This function is used to format test results. You don't need to touch it.\n",
    "def display_table(data):\n",
    "    from IPython.display import HTML, display\n",
    "\n",
    "    html = \"<table>\"\n",
    "    for row in data:\n",
    "        html += \"<tr>\"\n",
    "        for field in row:\n",
    "            html += \"<td><h4>{}</h4><td>\".format(field)\n",
    "        html += \"</tr>\"\n",
    "    html += \"</table>\"\n",
    "    display(HTML(html))"
   ]
  },
  {
   "cell_type": "markdown",
   "metadata": {},
   "source": [
    "### Sanity-check\n",
    "\n",
    "Running the following code block verifies that the correct module versions are indeed being used. \n",
    "\n",
    "Try restarting the Python kernel (or Jupyter) if there is a mismatch even after intalling the correct version. This might happen because Python's `import` statement does not reload already-loaded modules even if they are updated."
   ]
  },
  {
   "cell_type": "code",
   "execution_count": 2,
   "metadata": {},
   "outputs": [
    {
     "data": {
      "text/html": [
       "<text style='color:#f44336;weight:700;'>[✕] numpy version should to be 1.20.1, but 1.19.2 is installed.</text>"
      ],
      "text/plain": [
       "<IPython.core.display.HTML object>"
      ]
     },
     "metadata": {},
     "output_type": "display_data"
    },
    {
     "data": {
      "text/html": [
       "<text style='color:#4caf50;weight:700;'>[✓] pandas version 1.2.3 is correct.</text>"
      ],
      "text/plain": [
       "<IPython.core.display.HTML object>"
      ]
     },
     "metadata": {},
     "output_type": "display_data"
    },
    {
     "data": {
      "text/html": [
       "<text style='color:#03a9f4;weight:700;'>[–] scikit-learn is not imported, skipping version check.</text>"
      ],
      "text/plain": [
       "<IPython.core.display.HTML object>"
      ]
     },
     "metadata": {},
     "output_type": "display_data"
    },
    {
     "data": {
      "text/html": [
       "<text style='color:#4caf50;weight:700;'>[✓] matplotlib version 3.3.4 is correct.</text>"
      ],
      "text/plain": [
       "<IPython.core.display.HTML object>"
      ]
     },
     "metadata": {},
     "output_type": "display_data"
    },
    {
     "data": {
      "text/html": [
       "<text style='color:#4caf50;weight:700;'>[✓] scipy version 1.6.2 is correct.</text>"
      ],
      "text/plain": [
       "<IPython.core.display.HTML object>"
      ]
     },
     "metadata": {},
     "output_type": "display_data"
    }
   ],
   "source": [
    "if __name__ == '__main__':\n",
    "    from IPython.display import display, HTML\n",
    "\n",
    "    def printc(text, color):\n",
    "        display(HTML(\"<text style='color:{};weight:700;'>{}</text>\".format(color, text)))\n",
    "\n",
    "    _requirements = [r.split(\"==\") for r in open(\n",
    "        \"requirements.txt\", \"r\").read().split(\"\\n\")]\n",
    "\n",
    "    import sys\n",
    "    for (module, expected_version) in _requirements:\n",
    "        try:\n",
    "            if sys.modules[module].__version__ != expected_version:\n",
    "                printc(\"[✕] {} version should to be {}, but {} is installed.\".format(\n",
    "                    module, expected_version, sys.modules[module].__version__), \"#f44336\")\n",
    "            else:\n",
    "                printc(\"[✓] {} version {} is correct.\".format(\n",
    "                    module, expected_version), \"#4caf50\")\n",
    "        except:\n",
    "            printc(\"[–] {} is not imported, skipping version check.\".format(\n",
    "                module), \"#03a9f4\")"
   ]
  },
  {
   "cell_type": "markdown",
   "metadata": {},
   "source": [
    "---\n",
    "## Part 1. Step Counter\n",
    "We have provided you with smartphone accelerometer data collected under three circumstances\n",
    "<ol type=\"A\">\n",
    "  <li>walking with phone in pant pocket</li>\n",
    "  <li>walking with phone held in the hand statically as if the user is looking at it while walking</li>\n",
    "  <li>walking with phone in hand and the hand swinging</li>\n",
    "</ol>\n",
    "For each file, there are three columns, representing the accelerometer readings in three local axes(unit: $m / s^{2}$). The accelerometer is sampled at 100Hz.\n",
    "\n",
    "Implement your algorithm in the `count_steps(walk_accl_file)` function below. Do NOT change the function signature. You are, however, free to define and use helper functions. You are expected to use common signal processing and linear algebra functions (e.g., high/low pass filtering, convolution, cross correllation, peak detection, fft etc.) "
   ]
  },
  {
   "cell_type": "code",
   "execution_count": 3,
   "metadata": {},
   "outputs": [],
   "source": [
    "def get_walk_dataset(accl_file):\n",
    "    data_csv = pd.read_csv(accl_file, header=None, names=['x', 'y', 'z'])\n",
    "    data = data_csv.to_numpy()\n",
    "    \n",
    "#     x = np.arange(data.shape[0])\n",
    "#     plt.figure(figsize=(16, 10), dpi=144)\n",
    "#     for i in range(3):\n",
    "#         plt.plot(x, data[:, i])\n",
    "#     plt.show()\n",
    "    return data\n",
    "\n",
    "def moving_average(data, period, offset):\n",
    "    padded_data = np.pad(data, (0, period), 'wrap')\n",
    "    average_data = np.zeros(data.shape[0])\n",
    "    for i in range(data.shape[0]):\n",
    "        average_data[i] = np.mean(padded_data[i:i+period])\n",
    "    return average_data + offset\n",
    "\n",
    "def get_count(data):\n",
    "    # Naive\n",
    "    steps = 0\n",
    "    series_len = data.shape[0]\n",
    "    average_accel_arr = np.zeros((series_len))\n",
    "    for i in range(series_len):\n",
    "        ax, ay, az = data[i]\n",
    "        average_accel = np.sqrt(ax**2 + ay**2 + az**2)\n",
    "        average_accel_arr[i] = average_accel\n",
    "    \n",
    "    order = 5\n",
    "    sampling_freq = 100\n",
    "    pad = 50\n",
    "    cutoff_freq = 3\n",
    "    \n",
    "    normalized_cutoff_freq = 2 * cutoff_freq / sampling_freq\n",
    "    numerator_coeffs, denominator_coeffs = signal.butter(order, normalized_cutoff_freq)\n",
    "    padded_average_accel_arr = np.pad(average_accel_arr, (pad, pad), 'wrap')\n",
    "    filtered_signal = signal.lfilter(numerator_coeffs, denominator_coeffs, padded_average_accel_arr)\n",
    "    filtered_signal = filtered_signal[pad: -pad]\n",
    "#     print(filtered_signal.shape)\n",
    "    \n",
    "    offset = 0\n",
    "    moving_window = 200\n",
    "    mean_filtered_accel = moving_average(filtered_signal, moving_window, offset)\n",
    "#     mean_filtered_accel = np.pad(mean_filtered_accel, (pad, pad), 'wrap')\n",
    "    \n",
    "    \n",
    "    starting_above = False\n",
    "    if filtered_signal[0] > mean_filtered_accel[0]:\n",
    "        starting_above = True # Starting above average\n",
    "    flag = False  \n",
    "    for i in range(series_len):\n",
    "        if starting_above:\n",
    "            if filtered_signal[i] > mean_filtered_accel[i] and flag == False:\n",
    "                flag = True\n",
    "            elif filtered_signal[i] < mean_filtered_accel[i] and flag == True:\n",
    "                steps += 1\n",
    "                flag = False\n",
    "        else:\n",
    "            if filtered_signal[i] < mean_filtered_accel[i] and flag == False:\n",
    "                flag = True\n",
    "            elif filtered_signal[i] > mean_filtered_accel[i] and flag == True:\n",
    "                steps += 1\n",
    "                flag = False\n",
    "            \n",
    "            \n",
    "#     x = np.arange(series_len)\n",
    "#     plt.figure(figsize=(16, 10), dpi=144)\n",
    "#     plt.plot(x, mean_filtered_accel)\n",
    "#     plt.plot(x, filtered_signal)\n",
    "# #     plt.plot(x, average_accel_arr)\n",
    "#     plt.show()\n",
    "    return steps"
   ]
  },
  {
   "cell_type": "code",
   "execution_count": 4,
   "metadata": {},
   "outputs": [],
   "source": [
    "# This function takes 1 argument:\n",
    "#     walk_accl_file  (string) - name of data file for accelerometer data\n",
    "# It returns an integer, the number of steps\n",
    "def count_steps(walk_accl_file):\n",
    "    # Your implementation starts here:\n",
    "    walk_data = get_walk_dataset(walk_accl_file)\n",
    "    steps = get_count(walk_data)\n",
    "    return steps"
   ]
  },
  {
   "cell_type": "markdown",
   "metadata": {},
   "source": [
    "### Run & Test\n",
    "Use the cell below to run and test `count_steps(walk_accl_file)`. "
   ]
  },
  {
   "cell_type": "code",
   "execution_count": 5,
   "metadata": {},
   "outputs": [
    {
     "data": {
      "text/html": [
       "<table><tr><td><h4>Dataset</h4><td><td><h4>Expected Output</h4><td><td><h4>Your Output</h4><td><td><h4>Grade</h4><td></tr><tr><td><h4>data/holdstatic_20steps.csv</h4><td><td><h4>20</h4><td><td><h4>20</h4><td><td><h4>5.00 / 5.00</h4><td></tr><tr><td><h4>data/inpocket_26steps.csv</h4><td><td><h4>26</h4><td><td><h4>26</h4><td><td><h4>5.00 / 5.00</h4><td></tr><tr><td><h4>data/inpocket_36steps.csv</h4><td><td><h4>36</h4><td><td><h4>36</h4><td><td><h4>5.00 / 5.00</h4><td></tr><tr><td><h4>data/swing_32steps.csv</h4><td><td><h4>32</h4><td><td><h4>32</h4><td><td><h4>5.00 / 5.00</h4><td></tr><tr><td><h4>data/swing_38steps.csv</h4><td><td><h4>38</h4><td><td><h4>38</h4><td><td><h4>5.00 / 5.00</h4><td></tr><tr><td><h4><i>👻 Hidden test 1 👻</i></h4><td><td><h4><i>???</i></h4><td><td><h4><i>???</i></h4><td><td><h4><i>???</i> / 15.00</h4><td></tr><tr><td><h4><i>...</i></h4><td><td><h4><i>...</i></h4><td><td><h4><i>...</i></h4><td><td><h4><i>...</i></h4><td></tr><tr><td><h4><i>👻 Hidden test 5 👻</i></h4><td><td><h4><i>???</i></h4><td><td><h4><i>???</i></h4><td><td><h4><i>???</i> / 15.00</h4><td></tr></table>"
      ],
      "text/plain": [
       "<IPython.core.display.HTML object>"
      ]
     },
     "metadata": {},
     "output_type": "display_data"
    }
   ],
   "source": [
    "def estimate_steps_score(calculated, expected):\n",
    "    delta = abs(calculated - expected)\n",
    "    return 1 if(delta <= 2) else max((1 - abs(delta - 2) / expected), 0)\n",
    "\n",
    "\n",
    "if __name__ == '__main__':\n",
    "    walk_accl_files = ['data/holdstatic_20steps.csv', 'data/inpocket_26steps.csv',\n",
    "                       'data/inpocket_36steps.csv', 'data/swing_32steps.csv', 'data/swing_38steps.csv']\n",
    "    groundtruth = [20, 26, 36, 32, 38]\n",
    "    output = [['Dataset', 'Expected Output', 'Your Output', 'Grade']]\n",
    "    for i in range(len(groundtruth)):\n",
    "        calculated = count_steps(walk_accl_files[i])\n",
    "        score = estimate_steps_score(calculated, groundtruth[i])\n",
    "        output.append([walk_accl_files[i], groundtruth[i],\n",
    "                      calculated, \"{:2.2f} / 5.00\".format(score * 5)])\n",
    "    output.append(['<i>👻 Hidden test 1 👻</i>','<i>???</i>', '<i>???</i>', '<i>???</i> / 15.00'])\n",
    "    output.append(['<i>...</i>', '<i>...</i>', '<i>...</i>', '<i>...</i>'])\n",
    "    output.append(['<i>👻 Hidden test 5 👻</i>','<i>???</i>', '<i>???</i>', '<i>???</i> / 15.00'])\n",
    "    display_table(output)"
   ]
  },
  {
   "cell_type": "markdown",
   "metadata": {},
   "source": [
    "---\n",
    "## Part 2. Orientation Tracking\n",
    "\n",
    "### Part 2.1 Initial Orientation Calculation\n",
    "Assume the phone is static at the initial moment. We will provide you with the accelerometer reading at that moment (unit: $m / s^{2}$). Your goal is to identify the initial phone orientation from this reading. We will not provide compass data here since all the data are collected indoor and compass won’t give an accurate north indoor. Instead, assume at the initial moment, the projection of the phone’s local Y axis onto the horizontal plane is pointing towards the global Y axis. This will also give a fixed phone initial orientation.\n",
    "\n",
    "**We expect you to output the global direction in which the phone’s local X axis is pointing at.**\n",
    "\n",
    "<div class=\"alert alert-block alert-info\"><b>Hint:</b> Find the global Y axis’s direction in the local frame and let this direction be a 3 × 1 vector $v_{1}$. Let the gravity in\n",
    "the local frame be another 3 × 1 vector $v_{2}$. Then essentially you need to solve the following equation: <br> $\n",
    "R\\left[v_{1} v_{2}\\right]=\\left[\\begin{array}{ll}\n",
    "0 & 0 \\\\\n",
    "1 & 0 \\\\\n",
    "0 & 1\n",
    "\\end{array}\\right]$ </div>"
   ]
  },
  {
   "cell_type": "markdown",
   "metadata": {},
   "source": [
    "### Part 2.2 3D Orientation Tracking\n",
    "In this part, you need to take the initial orientation calculated in part 1, and perform gyro integration for each timestamp onward. We will provide you with a trace of gyroscope data, in CSV format. There are three columns in the file, representing the gyroscope readings in three **local** axes (unit: $rad / s$). The gyroscope is sampled at 100Hz. Your task is to track the phone’s 3D orientation and **output the end direction in which the phone’s local X axis is pointing at in the global frame**.\n",
    "\n",
    "One way of solving this problem can be:\n",
    "<ol type=\"A\">\n",
    "    <li> Assume the gyroscope’s sample interval is $\\Delta t$. </li>\n",
    "    <li> Get the phone's instant rotation axis and rotation angle in the local frame $(\\vec{l}, \\Delta \\theta)$ for each time stamp $t_{i},$ where $\\vec{l}=\\left(\\omega_{x}, \\omega_{v}, \\omega_{z}\\right)$ and $\\Delta \\theta=\\sqrt{\\left(\\omega_{x}^{2}+\\omega_{v}^{2}+\\omega_{z}^{2}\\right)} \\cdot \\Delta t$ </li>\n",
    "    <li> Project the instant rotation axis $\\vec{l}$ into the global frame using the phone's $3 \\mathrm{D}$ orientation matrix $R_{i}$ at time $t_{i}$. </li>\n",
    "    <li> Convert the instant rotation axis and angle in global frame into the form of rotation matrix $\\Delta R_{i}$. </li>\n",
    "    <li> Find the total 3D rotation matrix for time $t_{i+1}: R_{i+1}=\\Delta R_{i} \\cdot R_{i}$ </li>\n",
    "</ol>\n",
    "\n",
    "--- \n",
    "**Implement both algorithms in `track_orientation(orientation_accl_file, gyro_file)` below.** This is because the initial rotation matrix needed for calculating final orientation is a by-product of calculating initial orientation. Do NOT change the function signature. You are, however, free to define and use helper functions."
   ]
  },
  {
   "cell_type": "code",
   "execution_count": 6,
   "metadata": {},
   "outputs": [],
   "source": [
    "def get_accl_data(accl_file):\n",
    "    data_csv = pd.read_csv(accl_file, header=None, names=['x', 'y', 'z'])\n",
    "    data = data_csv.to_numpy()\n",
    "    return data\n",
    "\n",
    "def get_gyro_data(gyro_file):\n",
    "    data_csv = pd.read_csv(gyro_file, header=None, names=['x', 'y', 'z'])\n",
    "    data = data_csv.to_numpy()\n",
    "    return data\n",
    "\n",
    "def get_R0(accl_data):\n",
    "    angles = []\n",
    "    accl_data = np.array(accl_data)\n",
    "    for i in range(accl_data.shape[0]):\n",
    "        accl_x, accl_y, accl_z = accl_data[i][0], accl_data[i][1], accl_data[i][2]\n",
    "        g = np.sqrt(accl_x**2 + accl_y**2 + accl_z**2)\n",
    "        accl_x, accl_y, accl_z = accl_x/g, accl_y/g, accl_z/g\n",
    "        v2 = np.array([accl_x, accl_y, accl_z])\n",
    "        \n",
    "        g_comp_y_on_z = accl_y**2\n",
    "        accl_y_comp_z_vec = v2*g_comp_y_on_z\n",
    "        accl_y_comp_y_vec = [0, accl_y, 0] - accl_y_comp_z_vec\n",
    "        accl_y_comp_y_vec_norm = accl_y_comp_y_vec/np.linalg.norm(accl_y_comp_y_vec)\n",
    "        v1 = accl_y_comp_y_vec_norm\n",
    "        v0 = np.array([np.sqrt(1 - v1[i]**2 - v2[i]**2) for i in range(3)])\n",
    "        v0 = v0/np.linalg.norm(v0)\n",
    "        \n",
    "        if v2[2] < 0: #local z in global z  \n",
    "            v0[0] = -v0[0] # local x in global x\n",
    "        if v2[0] > 0 : #local x in global z\n",
    "            v0[2] = -v0[2] # local z in global x\n",
    "        R = np.stack((v0, v1, v2))\n",
    "        print(R)\n",
    "        return R\n",
    "    \n",
    "def get_next_R(Ri, l_local, dt):\n",
    "    dtheta= np.linalg.norm(l_local)*dt\n",
    "    #step2\n",
    "    l_global = Ri@l_local\n",
    "    l_global = l_global/np.linalg.norm(l_global)\n",
    "    #step3\n",
    "    dRi = Rotation.from_rotvec(dtheta*l_global)\n",
    "    dRi = dRi.as_matrix()\n",
    "    R_temp = dRi@Ri\n",
    "    R_next = np.ndarray(R_temp.shape)\n",
    "    for i in range(3):\n",
    "        R_next[i] = R_temp[i]/np.linalg.norm(R_temp[i])\n",
    "    #step4\n",
    "    return R_next"
   ]
  },
  {
   "cell_type": "code",
   "execution_count": 7,
   "metadata": {},
   "outputs": [],
   "source": [
    "# This function takes 2 arguments:\n",
    "#     - orientation_accl_file (string) - name of file containing a single accl reading\n",
    "#     - gyro_file (string) - name of file containing a sequence of gyroscope data\n",
    "# It returns two arguments: an array representing the initial global direction\n",
    "# in which the phone's local X axis is pointing at, and the final.\n",
    "def track_orientation(orientation_accl_file, gyro_file):\n",
    "    # Your implementation starts here:\n",
    "    \n",
    "    accl_data = get_accl_data(orientation_accl_file)\n",
    "    R0 = get_R0(accl_data)\n",
    "    init_orientation = R0[:, 0]\n",
    "    \n",
    "    gyro_data = get_gyro_data(gyro_file)\n",
    "    \n",
    "    Hz=100\n",
    "    dt = 1/Hz\n",
    "    Ri = R0\n",
    "    \n",
    "    for i in range(gyro_data.shape[0]):\n",
    "        Ri = get_next_R(Ri, gyro_data[i], dt)\n",
    "    final_orientation = Ri[:, 0]\n",
    "    \n",
    "    return [\n",
    "        init_orientation,\n",
    "        final_orientation,\n",
    "    ]  # [initial orientation], [final orientation]"
   ]
  },
  {
   "cell_type": "markdown",
   "metadata": {},
   "source": [
    "### Run & Test\n",
    "Use the cell below to run and test Part 2."
   ]
  },
  {
   "cell_type": "code",
   "execution_count": 8,
   "metadata": {},
   "outputs": [
    {
     "name": "stdout",
     "output_type": "stream",
     "text": [
      "[[ 9.99926462e-01  7.21399364e-09 -1.21272954e-02]\n",
      " [-2.04040710e-03  9.85744503e-01 -1.68236773e-01]\n",
      " [ 1.19544148e-02  1.68249146e-01  9.85672013e-01]]\n"
     ]
    },
    {
     "data": {
      "text/html": [
       "<table><tr><td><h4>Test</h4><td><td><h4>Dataset</h4><td><td><h4>Expected Output</h4><td><td><h4>Your Output</h4><td><td><h4>Deviation</h4><td><td><h4>Result</h4><td><td><h4>Grade</h4><td></tr><tr><td><h4>Initial Orientation</h4><td><td><h4>orientation_accl.csv, gyro.csv</h4><td><td><h4>[0.9999, -0.002, 0.012]</h4><td><td><h4>[ 0.99992646 -0.00204041  0.01195441]</h4><td><td><h4>0.00°</h4><td><td><h4>PASSED</h4><td><td><h4>10 / 10</h4><td></tr><tr><td><h4>Final Orientation</h4><td><td><h4>orientation_accl.csv, gyro.csv</h4><td><td><h4>[-0.0353, 0.9993, 0.0076]</h4><td><td><h4>[-0.03534573  0.9993461   0.00761856]</h4><td><td><h4>0.00°</h4><td><td><h4>PASSED</h4><td><td><h4>10 / 10</h4><td></tr><tr><td><h4><i>👻 Hidden test 1 👻</i></h4><td><td><h4><i>???</i></h4><td><td><h4><i>???</i></h4><td><td><h4><i>???</i></h4><td><td><h4><i>???</i></h4><td><td><h4><i>???</i></h4><td><td><h4><i>???</i> / 10</h4><td></tr><tr><td><h4><i>...</i></h4><td><td><h4><i>...</i></h4><td><td><h4><i>...</i></h4><td><td><h4><i>...</i></h4><td><td><h4><i>...</i></h4><td><td><h4><i>...</i></h4><td><td><h4><i>...</i></h4><td></tr><tr><td><h4><i>👻 Hidden test 4 👻</i></h4><td><td><h4><i>???</i></h4><td><td><h4><i>???</i></h4><td><td><h4><i>???</i></h4><td><td><h4><i>???</i></h4><td><td><h4><i>???</i></h4><td><td><h4><i>???</i> / 10</h4><td></tr></table>"
      ],
      "text/plain": [
       "<IPython.core.display.HTML object>"
      ]
     },
     "metadata": {},
     "output_type": "display_data"
    }
   ],
   "source": [
    "def get_deviation(calculated, expected):\n",
    "    calculated = np.array(calculated)\n",
    "    expected = np.array(expected)\n",
    "    with np.errstate(divide='ignore', invalid='ignore'):\n",
    "        dot_prod = np.dot(calculated, expected) / \\\n",
    "            np.linalg.norm(calculated) / np.linalg.norm(expected)\n",
    "        return np.degrees(np.arccos(dot_prod))\n",
    "\n",
    "\n",
    "if __name__ == '__main__':\n",
    "    gt_init = [0.9999, -0.0020, 0.0120]\n",
    "    gt_final = [-0.0353, 0.9993, 0.0076]\n",
    "    stu_init, stu_final = track_orientation(\n",
    "        'data/orientation_accl.csv', 'data/gyro.csv')\n",
    "\n",
    "    output = [['Test', 'Dataset', 'Expected Output',\n",
    "               'Your Output', 'Deviation', 'Result', 'Grade']]\n",
    "    init_state = 'FAILED'\n",
    "    final_state = 'FAILED'\n",
    "    init_grade = 0\n",
    "    final_grade = 0\n",
    "    init_dev = get_deviation(stu_init, gt_init)\n",
    "    final_dev = get_deviation(stu_final, gt_final)\n",
    "    if(init_dev < 2):\n",
    "        init_state = 'PASSED'\n",
    "        init_grade = 10\n",
    "    if(final_dev < 2):\n",
    "        final_state = 'PASSED'\n",
    "        final_grade = 10\n",
    "    output.append(['Initial Orientation',\n",
    "                  'orientation_accl.csv, gyro.csv', gt_init, stu_init, \"{:2.2f}°\".format(init_dev), init_state, \"{} / 10\".format(init_grade)])\n",
    "    output.append(['Final Orientation', 'orientation_accl.csv, gyro.csv',\n",
    "                  gt_final, stu_final, \"{:2.2f}°\".format(final_dev), final_state, \"{} / 10\".format(final_grade)])\n",
    "    output.append(['<i>👻 Hidden test 1 👻</i>','<i>???</i>', '<i>???</i>', '<i>???</i>', '<i>???</i>', '<i>???</i>', '<i>???</i> / 10'])\n",
    "    output.append(['<i>...</i>', '<i>...</i>', '<i>...</i>', '<i>...</i>', '<i>...</i>', '<i>...</i>', '<i>...</i>'])\n",
    "    output.append(['<i>👻 Hidden test 4 👻</i>','<i>???</i>', '<i>???</i>', '<i>???</i>', '<i>???</i>', '<i>???</i>', '<i>???</i> / 10'])\n",
    "    display_table(output)"
   ]
  },
  {
   "cell_type": "markdown",
   "metadata": {},
   "source": [
    "---\n",
    "## Rubric\n",
    "\n",
    "#### Step Counting (100 points) \n",
    "You will be graded on the 5 sets of provided data (5 points each), as well as 5 sets of hidden data (15 points each). For each test case, the grade depends on how much the result deviates from the groudtruth. A 2-step error for the provided data is tolerated. A 4-step error for the hidden data is tolerated. For results greater than the error threshold, your score will be scaled proportionally.\n",
    "\n",
    "####  Orientation Tracking (100 points) \n",
    "You will be graded on the provided data as well as 4 addition sets of data. They are each worth 20 points. A 2-degree error is tolerated. For results greater than the error threshold, no points will be rewarded since we provided a detailed algorithm to follow. The test data also include the simple case where the phone’s initial local frame is aligned with the global frame, and phone will only rotate along Z axis onwards. (In case you find the MP too difficult, only doing 1D integration on Z axis should at least give you some points.)"
   ]
  },
  {
   "cell_type": "markdown",
   "metadata": {},
   "source": [
    "---\n",
    "## Submission Guideline\n",
    "This Jupyter notebook is the only file you need to submit on Gradescope. If you are working in a pair, make sure your partner is correctly added on Gradescope and that both of your names are filled in at the top of this file.\n",
    "\n",
    "**Make sure any code you added to this notebook, except for import statements, is either in a function or guarded by `__main__`(which won't be run by the autograder). Gradescope will give you immediate feedback using the provided test cases. It is your responsibility to check the output before the deadline to ensure your submission runs with the autograder.**"
   ]
  }
 ],
 "metadata": {
  "kernelspec": {
   "display_name": "Python 3",
   "language": "python",
   "name": "python3"
  },
  "language_info": {
   "codemirror_mode": {
    "name": "ipython",
    "version": 3
   },
   "file_extension": ".py",
   "mimetype": "text/x-python",
   "name": "python",
   "nbconvert_exporter": "python",
   "pygments_lexer": "ipython3",
   "version": "3.7.10"
  }
 },
 "nbformat": 4,
 "nbformat_minor": 4
}
